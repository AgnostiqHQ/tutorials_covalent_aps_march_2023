{
 "cells": [
  {
   "cell_type": "code",
   "execution_count": 1,
   "metadata": {},
   "outputs": [],
   "source": [
    "import covalent as ct"
   ]
  },
  {
   "cell_type": "markdown",
   "metadata": {},
   "source": [
    "### Covalent 101 example"
   ]
  },
  {
   "cell_type": "code",
   "execution_count": 2,
   "metadata": {},
   "outputs": [
    {
     "name": "stdout",
     "output_type": "stream",
     "text": [
      "\n",
      "Lattice Result\n",
      "==============\n",
      "status: COMPLETED\n",
      "result: 1\n",
      "input args: ['[1, 2]']\n",
      "input kwargs: {}\n",
      "error: \n",
      "\n",
      "start_time: 2023-03-02 00:59:32.603993\n",
      "end_time: 2023-03-02 00:59:33.802671\n",
      "\n",
      "results_dir: /Users/araghukas/Code/tutorials_covalent_aps_march_2023/code_examples/covalent_101/results\n",
      "dispatch_id: b4b61bb8-6178-4c2b-b6e5-b44ae07dcc89\n",
      "\n",
      "Node Outputs\n",
      "------------\n",
      "task(0): 1\n",
      ":parameter:1(1): 1\n",
      ":parameter:2(2): 2\n",
      "train(3): 1\n",
      "\n"
     ]
    }
   ],
   "source": [
    "def optimize(x, y):\n",
    "    return min(x, y)\n",
    "\n",
    "@ct.electron\n",
    "def task(x, y):\n",
    "    z = optimize(x, y)\n",
    "    return z\n",
    "\n",
    "@ct.electron\n",
    "def train(model):\n",
    "    import time\n",
    "    time.sleep(1)\n",
    "    return model\n",
    "\n",
    "@ct.lattice\n",
    "def workflow(inputs):\n",
    "    model = task(inputs[0], inputs[1])\n",
    "    return train(model)\n",
    "\n",
    "\n",
    "dispatch_id = ct.dispatch(workflow)([1, 2])\n",
    "print(ct.get_result(dispatch_id, wait=True))"
   ]
  }
 ],
 "metadata": {
  "kernelspec": {
   "display_name": "aps_march_covalent",
   "language": "python",
   "name": "python3"
  },
  "language_info": {
   "codemirror_mode": {
    "name": "ipython",
    "version": 3
   },
   "file_extension": ".py",
   "mimetype": "text/x-python",
   "name": "python",
   "nbconvert_exporter": "python",
   "pygments_lexer": "ipython3",
   "version": "3.8.16"
  },
  "orig_nbformat": 4,
  "vscode": {
   "interpreter": {
    "hash": "3a0fffcc345d65bd2255716c5867fcc71747eda3022042b2bc86f5a15c929d04"
   }
  }
 },
 "nbformat": 4,
 "nbformat_minor": 2
}
